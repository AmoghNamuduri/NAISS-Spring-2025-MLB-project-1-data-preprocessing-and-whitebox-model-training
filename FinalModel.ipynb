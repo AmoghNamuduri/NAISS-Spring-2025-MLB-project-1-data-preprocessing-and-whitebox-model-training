{
  "cells": [
    {
      "cell_type": "markdown",
      "metadata": {
        "id": "view-in-github",
        "colab_type": "text"
      },
      "source": [
        "<a href=\"https://colab.research.google.com/github/AmoghNamuduri/NAISS-Spring-2025-MLB-project-1-data-preprocessing-and-whitebox-model-training/blob/main/FinalModel.ipynb\" target=\"_parent\"><img src=\"https://colab.research.google.com/assets/colab-badge.svg\" alt=\"Open In Colab\"/></a>"
      ]
    },
    {
      "cell_type": "code",
      "execution_count": null,
      "metadata": {
        "colab": {
          "background_save": true
        },
        "id": "N2wdziYVJXSc"
      },
      "outputs": [],
      "source": [
        "import pandas as pd\n",
        "from sklearn.model_selection import train_test_split\n",
        "from sklearn.linear_model import LogisticRegression\n",
        "from sklearn.metrics import accuracy_score, classification_report, confusion_matrix\n",
        "from sklearn.preprocessing import LabelEncoder"
      ]
    },
    {
      "cell_type": "code",
      "execution_count": null,
      "metadata": {
        "colab": {
          "background_save": true
        },
        "id": "0GXoE34DJjxx"
      },
      "outputs": [],
      "source": [
        "from google.colab import drive\n",
        "drive.mount('/content/drive')\n",
        "file = \"/content/drive/My Drive/Colab Notebooks/corrupted_titanic_data.csv\"\n",
        "df = pd.read_csv(file)"
      ]
    },
    {
      "cell_type": "code",
      "execution_count": null,
      "metadata": {
        "colab": {
          "background_save": true
        },
        "id": "N-w_BjC6YuJ_"
      },
      "outputs": [],
      "source": [
        "df_cleaned = df.dropna()"
      ]
    },
    {
      "cell_type": "code",
      "execution_count": null,
      "metadata": {
        "colab": {
          "background_save": true
        },
        "id": "uf_tAhFpYzDg"
      },
      "outputs": [],
      "source": [
        "columns_to_drop = ['class', 'who', 'deck', 'embark_town', 'pclass_redundant', 'fare_age_combination']\n",
        "df_cleaned_dropped = df_cleaned.drop(columns=columns_to_drop, errors='ignore')\n",
        "df_cleaned_dropped.head()"
      ]
    },
    {
      "cell_type": "code",
      "execution_count": null,
      "metadata": {
        "colab": {
          "background_save": true
        },
        "id": "mT6wNzLWY2dQ"
      },
      "outputs": [],
      "source": [
        "df_cleaned_dropped['age'] = df_cleaned_dropped['age'].fillna(df_cleaned_dropped['age'].median())\n",
        "df_cleaned_dropped['fare'] = df_cleaned_dropped['fare'].fillna(df_cleaned_dropped['fare'].median())\n",
        "df_cleaned_dropped['embarked'] = df_cleaned_dropped['embarked'].fillna(df_cleaned_dropped['embarked'].mode()[0])\n",
        "df_cleaned_dropped = df_cleaned_dropped[df_cleaned_dropped[\"age\"] <= 100]\n",
        "\n",
        "print(df_cleaned_dropped.head())\n"
      ]
    },
    {
      "cell_type": "code",
      "execution_count": null,
      "metadata": {
        "colab": {
          "background_save": true
        },
        "id": "mzHjrRYPZIws"
      },
      "outputs": [],
      "source": [
        "df_cleaned_dropped['sex'] = df_cleaned_dropped['sex'].astype(str).str.lower()\n",
        "label_encoder = LabelEncoder()\n",
        "df_cleaned_dropped['sex'] = label_encoder.fit_transform(df_cleaned_dropped['sex'])\n",
        "df_cleaned_dropped['embarked'] = label_encoder.fit_transform(df_cleaned_dropped['embarked'])\n",
        "print(df_cleaned_dropped.head())\n"
      ]
    },
    {
      "cell_type": "code",
      "execution_count": null,
      "metadata": {
        "colab": {
          "background_save": true
        },
        "id": "yNR2qRPtZNoI"
      },
      "outputs": [],
      "source": [
        "X = df_cleaned_dropped.drop(columns=['survived'])\n",
        "y = df_cleaned_dropped['survived']\n",
        "\n",
        "X_train, X_test, y_train, y_test = train_test_split( X, y, test_size=0.2, random_state=42, stratify=y\n",
        ")\n",
        "model = LogisticRegression(random_state=42, max_iter=1000)\n",
        "model.fit(X_train, y_train)\n",
        "\n",
        "y_pred = model.predict(X_test)\n",
        "\n",
        "accuracy = accuracy_score(y_test, y_pred)\n",
        "conf_matrix = confusion_matrix(y_test, y_pred)\n",
        "class_report = classification_report(y_test, y_pred)\n",
        "print(f\"Accuracy: {accuracy:.2f}\")\n",
        "\n",
        "print(\"\\nClassification Report:\")\n",
        "print(class_report)\n",
        "\n",
        "print(\"\\nConfusion Matrix:\")\n",
        "print(conf_matrix)"
      ]
    }
  ],
  "metadata": {
    "colab": {
      "provenance": [],
      "authorship_tag": "ABX9TyOx+hxFlqeYLHHKiT/pOwrR",
      "include_colab_link": true
    },
    "kernelspec": {
      "display_name": "Python 3",
      "name": "python3"
    },
    "language_info": {
      "name": "python"
    }
  },
  "nbformat": 4,
  "nbformat_minor": 0
}