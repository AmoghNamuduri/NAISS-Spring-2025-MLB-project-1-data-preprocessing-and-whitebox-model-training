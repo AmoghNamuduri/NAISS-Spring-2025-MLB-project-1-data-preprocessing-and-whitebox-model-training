{
 "cells": [
  {
   "cell_type": "code",
   "execution_count": null,
   "id": "4084fe0a-5bc2-4b5c-8850-efb2e3e96e87",
   "metadata": {},
   "outputs": [],
   "source": [
    "# Libary imports can go here. As always, you can import more as needed!\n",
    "! pip install pandas      \n",
    "import pandas as pd\n",
    "from sklearn.ensemble import RandomForestClassifier\n",
    "from sklearn.metrics import accuracy_score, classification_report, confusion_matrix\n",
    "import seaborn as sns\n",
    "import matplotlib.pyplot as plt"
   ]
  },
  {
   "cell_type": "code",
   "execution_count": null,
   "id": "28018514-9cc4-4327-9438-6a06c7d83e6f",
   "metadata": {
    "scrolled": true
   },
   "outputs": [],
   "source": [
    "# Loads the file\n",
    "file = \"corrupted_titanic_data.csv\"\n",
    "df = pd.read_csv(file)"
   ]
  },
  {
   "cell_type": "code",
   "execution_count": 3,
   "id": "d5459db6-fc1e-4d32-83cf-82b17ead58ff",
   "metadata": {
    "scrolled": true
   },
   "outputs": [],
   "source": [
    "# <------------ TODO ----------------------->\n",
    "# Drop all the rows with null values\n",
    "# (TIP: make sure to reset the index after dropping)\n",
    "\n",
    "df_cleaned = df.dropna()"
   ]
  },
  {
   "cell_type": "code",
   "execution_count": 4,
   "id": "f171b4eb-1470-4820-8c33-4ff0d8db24de",
   "metadata": {},
   "outputs": [],
   "source": [
    "# <------------ TODO ----------------------->\n",
    "# Drop all the feature columns that you may think are not neccessary for the models evaluation\n",
    "# (HINT: around 6-8 columns!)\n",
    "\n",
    "drop_features = [\n",
    "    \"class\", \"who\", \"adult_male\", \"deck\", \"embark_town\", \"alive\", \"alone\", \"pclass_redundant\"\n",
    "]\n",
    "df_cleaned_dropped = df.drop(columns=drop_features, errors =\"ignore\")\n",
    "df.head()"
   ]
  },
  {
   "cell_type": "code",
   "execution_count": 5,
   "id": "2c8d824a-ffde-4972-94bc-4bb431c23338",
   "metadata": {},
   "outputs": [],
   "source": [
    "# <------------ TODO ----------------------->\n",
    "# Clean any relevant columns here\n",
    "# (TIP: Pay attention to the values in the column)\n",
    "\n",
    "df['age'] = df['age'].fillna(df['age'].median())  \n",
    "df['embarked'] = df['embarked'].fillna(df['embarked'].median()[0])  \n",
    "df['fare'] = df['fare'].fillna(df['fare'].median())  "
   ]
  },
  {
   "cell_type": "code",
   "execution_count": 6,
   "id": "2cc2bc96-2e58-477c-aee3-b635f121291a",
   "metadata": {},
   "outputs": [],
   "source": [
    "# <------------ TODO ----------------------->\n",
    "# Encode all the text values to numeric ones\n",
    "# (TIP: Double check your final dataframe at this point before moving on)\n",
    "\n",
    "df['sex'] = df['sex'].map({'male': 0, 'female': 1})  \n",
    "df['embarked'] = df['embarked'].map({'C': 0, 'Q': 1, 'S': 2})  "
   ]
  },
  {
   "cell_type": "code",
   "execution_count": 7,
   "id": "fc25a47e-015e-4660-b31a-6d5ade289a6c",
   "metadata": {},
   "outputs": [],
   "source": [
    "# <------------ TODO ----------------------->\n",
    "# Create and train a classification model of your choosing\n",
    "# Print the accuracy, classification report, and the confusion matrix\n",
    "\n",
    "X = df.drop(columns=['survived'])  \n",
    "y = df['survived']\n",
    "\n",
    "X_train, X_test, y_train, y_test = train_test_split(X, y, test_size=0.2, random_state=1)\n",
    "\n",
    "model = RandomForestClassifier(random_state=1)\n",
    "model.fit(X_train, y_train)\n",
    "\n",
    "y_pred = model.predict(X_test)\n",
    "\n",
    "accuracy = accuracy_score(y_test, y_pred)\n",
    "print(f\"Accuracy: {accuracy:.2f}\")\n",
    "\n",
    "print(\"\\nClassification Report:\")\n",
    "print(classification_report(y_test, y_pred))\n",
    "\n",
    "print(\"\\nConfusion Matrix:\")\n",
    "conf_matrix = confusion_matrix(y_test, y_pred)\n",
    "print(conf_matrix)\n",
    "\n",
    "plt.figure(figsize=(8, 6))\n",
    "sns.heatmap(conf_matrix, annot=True, fmt='d', cmap='Blues', xticklabels=['Not Survived', 'Survived'], yticklabels=['Not Survived', 'Survived'])\n",
    "plt.title('Confusion Matrix')\n",
    "plt.xlabel('Predicted')\n",
    "plt.ylabel('Actual')\n",
    "plt.show()"
   ]
  }
 ],
 "metadata": {
  "kernelspec": {
   "display_name": "Python 3",
   "language": "python",
   "name": "python3"
  },
  "language_info": {
   "codemirror_mode": {
    "name": "ipython",
    "version": 3
   },
   "file_extension": ".py",
   "mimetype": "text/x-python",
   "name": "python",
   "nbconvert_exporter": "python",
   "pygments_lexer": "ipython3",
   "version": "3.13.0"
  }
 },
 "nbformat": 4,
 "nbformat_minor": 5
}
